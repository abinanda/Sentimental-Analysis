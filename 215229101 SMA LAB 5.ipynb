{
 "cells": [
  {
   "cell_type": "markdown",
   "id": "d4922a06",
   "metadata": {},
   "source": [
    "#### Name: ABISHEK N\n",
    "#### Roll NO: 215229101"
   ]
  },
  {
   "cell_type": "markdown",
   "id": "9b1d0cac",
   "metadata": {},
   "source": [
    "## SMA Lab 5:Retrieving the user’s LinkedIn Profile and analysing the profile’s connections"
   ]
  },
  {
   "cell_type": "code",
   "execution_count": 1,
   "id": "2b53353d",
   "metadata": {},
   "outputs": [],
   "source": [
    "import os\n",
    "import csv\n",
    "import numpy as np\n",
    "\n",
    "# Point this to your 'Connections.csv' file.\n",
    "CSV_FILE = os.path.join('resources', 'ch04-linkedin', 'Connections.csv')\n",
    "\n",
    "csvReader = csv.DictReader(open(\"Connections.csv\"), delimiter=',', quotechar='\"')\n",
    "contacts = [row for row in csvReader]"
   ]
  },
  {
   "cell_type": "code",
   "execution_count": 2,
   "id": "eb3850c6",
   "metadata": {},
   "outputs": [],
   "source": [
    "#Simple normalization of company suffixes from address book data\n"
   ]
  },
  {
   "cell_type": "code",
   "execution_count": 3,
   "id": "4b3dd614",
   "metadata": {},
   "outputs": [
    {
     "name": "stdout",
     "output_type": "stream",
     "text": [
      "+--------------------------------------------------+------+\n",
      "| Company                                          | Freq |\n",
      "+--------------------------------------------------+------+\n",
      "| Bishop Heber College, Tiruchirappalli - 620 017. | 4    |\n",
      "+--------------------------------------------------+------+\n"
     ]
    }
   ],
   "source": [
    "from prettytable import PrettyTable # pip install prettytable\n",
    "from collections import Counter\n",
    "from operator import itemgetter\n",
    "\n",
    "# Define a set of transforms that converts the first item\n",
    "# to the second item. Here, we're simply handling some\n",
    "# commonly known abbreviations, stripping off common suffixes, \n",
    "# etc.\n",
    "\n",
    "transforms = [(', Inc.', ''), (', Inc', ''), (', LLC', ''), (', LLP', ''),\n",
    "               (' LLC', ''), (' Inc.', ''), (' Inc', '')]\n",
    "\n",
    "companies = [c['Company'].strip() for c in contacts if c['Company'].strip() != '']\n",
    "\n",
    "for i, _ in enumerate(companies):\n",
    "    for transform in transforms:\n",
    "        companies[i] = companies[i].replace(*transform)\n",
    "\n",
    "pt = PrettyTable(field_names=['Company', 'Freq'])\n",
    "pt.align = 'l'\n",
    "c = Counter(companies)\n",
    "\n",
    "[pt.add_row([company, freq]) for (company, freq) in sorted(c.items(), key=itemgetter(1), reverse=True) if freq > 1]\n",
    "\n",
    "print(pt)\n"
   ]
  },
  {
   "cell_type": "code",
   "execution_count": 4,
   "id": "9fd422ef",
   "metadata": {},
   "outputs": [],
   "source": [
    "#Standardizing common job titles and computing their frequencies"
   ]
  },
  {
   "cell_type": "code",
   "execution_count": 5,
   "id": "b3a7ad52",
   "metadata": {},
   "outputs": [
    {
     "name": "stdout",
     "output_type": "stream",
     "text": [
      "+----------------+------+\n",
      "| Job Title      | Freq |\n",
      "+----------------+------+\n",
      "| Guest Lecturer | 2    |\n",
      "+----------------+------+\n",
      "+-----------+------+\n",
      "| Token     | Freq |\n",
      "+-----------+------+\n",
      "| Data      | 5    |\n",
      "| Associate | 4    |\n",
      "| Analyst   | 4    |\n",
      "| Intern    | 2    |\n",
      "| Guest     | 2    |\n",
      "| Lecturer  | 2    |\n",
      "| Student   | 2    |\n",
      "| Science   | 2    |\n",
      "+-----------+------+\n"
     ]
    }
   ],
   "source": [
    "transforms = [\n",
    "    ('Sr.', 'Senior'),\n",
    "    ('Sr', 'Senior'),\n",
    "    ('Jr.', 'Junior'),\n",
    "    ('Jr', 'Junior'),\n",
    "    ('CEO', 'Chief Executive Officer'),\n",
    "    ('COO', 'Chief Operating Officer'),\n",
    "    ('CTO', 'Chief Technology Officer'),\n",
    "    ('CFO', 'Chief Finance Officer'),\n",
    "    ('VP', 'Vice President'),\n",
    "    ]\n",
    "\n",
    "# Read in a list of titles and split apart\n",
    "# any combined titles like \"President/CEO.\"\n",
    "# Other variations could be handled as well, such\n",
    "# as \"President & CEO\", \"President and CEO\", etc.\n",
    "\n",
    "titles = []\n",
    "for contact in contacts:\n",
    "    titles.extend([t.strip() for t in contact['Position'].split('/')\n",
    "                  if contact['Position'].strip() != ''])\n",
    "\n",
    "# Replace common/known abbreviations\n",
    "\n",
    "for i, _ in enumerate(titles):\n",
    "    for transform in transforms:\n",
    "        titles[i] = titles[i].replace(*transform)\n",
    "\n",
    "# Print out a table of titles sorted by frequency\n",
    "\n",
    "pt = PrettyTable(field_names=['Job Title', 'Freq'])\n",
    "pt.align = 'l'\n",
    "c = Counter(titles)\n",
    "[pt.add_row([title, freq]) \n",
    " for (title, freq) in sorted(c.items(), key=itemgetter(1), reverse=True) \n",
    "     if freq > 1]\n",
    "print(pt)\n",
    "\n",
    "# Print out a table of tokens sorted by frequency\n",
    "\n",
    "tokens = []\n",
    "for title in titles:\n",
    "    tokens.extend([t.strip(',') for t in title.split()])\n",
    "pt = PrettyTable(field_names=['Token', 'Freq'])\n",
    "pt.align = 'l'\n",
    "c = Counter(tokens)\n",
    "[pt.add_row([token, freq]) \n",
    " for (token, freq) in sorted(c.items(), key=itemgetter(1), reverse=True) \n",
    "     if freq > 1 and len(token) > 2]\n",
    "print(pt)"
   ]
  },
  {
   "cell_type": "code",
   "execution_count": 6,
   "id": "293b978e",
   "metadata": {},
   "outputs": [
    {
     "ename": "SyntaxError",
     "evalue": "invalid syntax (857174847.py, line 2)",
     "output_type": "error",
     "traceback": [
      "\u001b[1;36m  Input \u001b[1;32mIn [6]\u001b[1;36m\u001b[0m\n\u001b[1;33m    NOTE:This section contains no locations bcoz there is no geocode generated\u001b[0m\n\u001b[1;37m              ^\u001b[0m\n\u001b[1;31mSyntaxError\u001b[0m\u001b[1;31m:\u001b[0m invalid syntax\n"
     ]
    }
   ],
   "source": [
    "#Geocoding locations with Google Maps\n",
    "NOTE:This section contains no locations bcoz there is no geocode generated"
   ]
  },
  {
   "cell_type": "code",
   "execution_count": 7,
   "id": "6e4c6188",
   "metadata": {},
   "outputs": [
    {
     "name": "stdout",
     "output_type": "stream",
     "text": [
      "... Failed to get a location for \n",
      "  1 of  52 -  -- Unknown Location\n",
      "... Failed to get a location for \n",
      "  2 of  52 -  -- Unknown Location\n",
      "... Failed to get a location for \n",
      "  3 of  52 -  -- Unknown Location\n",
      "... Failed to get a location for \n",
      "  4 of  52 -  -- Unknown Location\n",
      "... Failed to get a location for \n",
      "  5 of  52 -  -- Unknown Location\n",
      "... Failed to get a location for \n",
      "  6 of  52 -  -- Unknown Location\n",
      "... Failed to get a location for \n",
      "  7 of  52 -  -- Unknown Location\n",
      "... Failed to get a location for Ernst & Young Global Services LLP\n",
      "  8 of  52 - Ernst & Young Global Services LLP -- Unknown Location\n",
      "... Failed to get a location for \n",
      "  9 of  52 -  -- Unknown Location\n",
      "... Failed to get a location for MENMOZHI TECHNOLOGIES\n",
      " 10 of  52 - MENMOZHI TECHNOLOGIES -- Unknown Location\n",
      "... Failed to get a location for \n",
      " 11 of  52 -  -- Unknown Location\n",
      "... Failed to get a location for \n",
      " 12 of  52 -  -- Unknown Location\n",
      "... Failed to get a location for Tech Mahindra\n",
      " 13 of  52 - Tech Mahindra -- Unknown Location\n",
      "... Failed to get a location for \n",
      " 14 of  52 -  -- Unknown Location\n",
      "... Failed to get a location for Learn and Build\n",
      " 15 of  52 - Learn and Build -- Unknown Location\n",
      "... Failed to get a location for \n",
      " 16 of  52 -  -- Unknown Location\n",
      "... Failed to get a location for \n",
      " 17 of  52 -  -- Unknown Location\n",
      "... Failed to get a location for \n",
      " 18 of  52 -  -- Unknown Location\n",
      "... Failed to get a location for \n",
      " 19 of  52 -  -- Unknown Location\n",
      "... Failed to get a location for \n",
      " 20 of  52 -  -- Unknown Location\n",
      "... Failed to get a location for \n",
      " 21 of  52 -  -- Unknown Location\n",
      "... Failed to get a location for Capgemini\n",
      " 22 of  52 - Capgemini -- Unknown Location\n",
      "... Failed to get a location for \n",
      " 23 of  52 -  -- Unknown Location\n",
      "... Failed to get a location for \n",
      " 24 of  52 -  -- Unknown Location\n",
      "... Failed to get a location for \n",
      " 25 of  52 -  -- Unknown Location\n",
      "... Failed to get a location for \n",
      " 26 of  52 -  -- Unknown Location\n",
      "... Failed to get a location for \n",
      " 27 of  52 -  -- Unknown Location\n",
      "... Failed to get a location for \n",
      " 28 of  52 -  -- Unknown Location\n",
      "... Failed to get a location for \n",
      " 29 of  52 -  -- Unknown Location\n",
      "... Failed to get a location for Bishop Heber College, Tiruchirappalli - 620 017.\n",
      " 30 of  52 - Bishop Heber College, Tiruchirappalli - 620 017. -- Unknown Location\n",
      "... Failed to get a location for \n",
      " 31 of  52 -  -- Unknown Location\n",
      "... Failed to get a location for \n",
      " 32 of  52 -  -- Unknown Location\n",
      "... Failed to get a location for \n",
      " 33 of  52 -  -- Unknown Location\n",
      "... Failed to get a location for Bishop Heber College, Tiruchirappalli - 620 017.\n",
      " 34 of  52 - Bishop Heber College, Tiruchirappalli - 620 017. -- Unknown Location\n",
      "... Failed to get a location for Bishop Heber College, Tiruchirappalli - 620 017.\n",
      " 35 of  52 - Bishop Heber College, Tiruchirappalli - 620 017. -- Unknown Location\n",
      "... Failed to get a location for \n",
      " 36 of  52 -  -- Unknown Location\n",
      "... Failed to get a location for \n",
      " 37 of  52 -  -- Unknown Location\n",
      "... Failed to get a location for \n",
      " 38 of  52 -  -- Unknown Location\n",
      "... Failed to get a location for \n",
      " 39 of  52 -  -- Unknown Location\n",
      "... Failed to get a location for \n",
      " 40 of  52 -  -- Unknown Location\n",
      "... Failed to get a location for Dayananda Sagar University\n",
      " 41 of  52 - Dayananda Sagar University -- Unknown Location\n",
      "... Failed to get a location for Amazon\n",
      " 42 of  52 - Amazon -- Unknown Location\n",
      "... Failed to get a location for Bharat Sanchar Nigam Limited\n",
      " 43 of  52 - Bharat Sanchar Nigam Limited -- Unknown Location\n",
      "... Failed to get a location for Cognizant\n",
      " 44 of  52 - Cognizant -- Unknown Location\n",
      "... Failed to get a location for \n",
      " 45 of  52 -  -- Unknown Location\n",
      "... Failed to get a location for National Association of Students of Architecture (NASA India)\n",
      " 46 of  52 - National Association of Students of Architecture ( -- Unknown Location\n",
      "... Failed to get a location for RxLogix\n",
      " 47 of  52 - RxLogix -- Unknown Location\n",
      "... Failed to get a location for Bishop Heber College, Tiruchirappalli - 620 017.\n",
      " 48 of  52 - Bishop Heber College, Tiruchirappalli - 620 017. -- Unknown Location\n",
      "... Failed to get a location for Kissflow\n",
      " 49 of  52 - Kissflow -- Unknown Location\n",
      "... Failed to get a location for Mila - Quebec Artificial Intelligence Institute\n",
      " 50 of  52 - Mila - Quebec Artificial Intelligence Institute -- Unknown Location\n",
      "... Failed to get a location for Allstate\n",
      " 51 of  52 - Allstate -- Unknown Location\n",
      "... Failed to get a location for Actify Data Labs\n",
      " 52 of  52 - Actify Data Labs -- Unknown Location\n"
     ]
    }
   ],
   "source": [
    "for i, c in enumerate(contacts):\n",
    "    progress = '{0:3d} of {1:3d} - '.format(i+1,len(contacts))\n",
    "    company = c['Company']\n",
    "    try:\n",
    "        location = g.geocode(company, exactly_one=True)\n",
    "    except:\n",
    "        print('... Failed to get a location for {0}'.format(company))\n",
    "        location = None\n",
    "    \n",
    "    if location != None:\n",
    "        c.update([('Location', location)])\n",
    "        print(progress + company[:50] + ' -- ' + location.address)\n",
    "    else:\n",
    "        c.update([('Location', None)])\n",
    "        print(progress + company[:50] + ' -- ' + 'Unknown Location')"
   ]
  },
  {
   "cell_type": "code",
   "execution_count": null,
   "id": "964e8754",
   "metadata": {},
   "outputs": [],
   "source": []
  },
  {
   "cell_type": "code",
   "execution_count": null,
   "id": "5b839ec9",
   "metadata": {},
   "outputs": [],
   "source": []
  },
  {
   "cell_type": "code",
   "execution_count": null,
   "id": "9b140baf",
   "metadata": {},
   "outputs": [],
   "source": []
  },
  {
   "cell_type": "code",
   "execution_count": null,
   "id": "364036a8",
   "metadata": {},
   "outputs": [],
   "source": []
  },
  {
   "cell_type": "code",
   "execution_count": null,
   "id": "290e7a69",
   "metadata": {},
   "outputs": [],
   "source": []
  }
 ],
 "metadata": {
  "kernelspec": {
   "display_name": "Python 3 (ipykernel)",
   "language": "python",
   "name": "python3"
  },
  "language_info": {
   "codemirror_mode": {
    "name": "ipython",
    "version": 3
   },
   "file_extension": ".py",
   "mimetype": "text/x-python",
   "name": "python",
   "nbconvert_exporter": "python",
   "pygments_lexer": "ipython3",
   "version": "3.9.12"
  }
 },
 "nbformat": 4,
 "nbformat_minor": 5
}
